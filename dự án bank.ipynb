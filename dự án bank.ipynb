{
 "cells": [
  {
   "cell_type": "code",
   "execution_count": 198,
   "id": "92bfabf1",
   "metadata": {},
   "outputs": [],
   "source": [
    "import pandas as pd\n",
    "import sqlite3\n",
    "from openpyxl.workbook import Workbook\n",
    "wb = Workbook()\n",
    "#wb.create_sheet\n",
    "#wb.save(filename = 'sample_book.xlsx')\n",
    "import openpyxl\n",
    "import numpy as np\n",
    "import matplotlib.pyplot as plt\n",
    "import seaborn as sns"
   ]
  },
  {
   "cell_type": "code",
   "execution_count": null,
   "id": "a3d44c5d",
   "metadata": {},
   "outputs": [],
   "source": []
  },
  {
   "cell_type": "code",
   "execution_count": 199,
   "id": "b038a5ea",
   "metadata": {},
   "outputs": [],
   "source": [
    "link = r\"C:\\Users\\HP\\Desktop\\book\\dataset\\Banking Dataset - Marketing Targets\\train.csv\"\n",
    "df = pd.read_csv(link)"
   ]
  },
  {
   "cell_type": "code",
   "execution_count": 200,
   "id": "2e8c972a",
   "metadata": {
    "scrolled": false
   },
   "outputs": [
    {
     "data": {
      "text/html": [
       "<div>\n",
       "<style scoped>\n",
       "    .dataframe tbody tr th:only-of-type {\n",
       "        vertical-align: middle;\n",
       "    }\n",
       "\n",
       "    .dataframe tbody tr th {\n",
       "        vertical-align: top;\n",
       "    }\n",
       "\n",
       "    .dataframe thead th {\n",
       "        text-align: right;\n",
       "    }\n",
       "</style>\n",
       "<table border=\"1\" class=\"dataframe\">\n",
       "  <thead>\n",
       "    <tr style=\"text-align: right;\">\n",
       "      <th></th>\n",
       "      <th>age</th>\n",
       "      <th>job</th>\n",
       "      <th>marital</th>\n",
       "      <th>education</th>\n",
       "      <th>default</th>\n",
       "      <th>balance</th>\n",
       "      <th>housing</th>\n",
       "      <th>loan</th>\n",
       "      <th>contact</th>\n",
       "      <th>day</th>\n",
       "      <th>month</th>\n",
       "      <th>duration</th>\n",
       "      <th>campaign</th>\n",
       "      <th>pdays</th>\n",
       "      <th>previous</th>\n",
       "      <th>poutcome</th>\n",
       "      <th>y</th>\n",
       "    </tr>\n",
       "  </thead>\n",
       "  <tbody>\n",
       "    <tr>\n",
       "      <th>0</th>\n",
       "      <td>58</td>\n",
       "      <td>management</td>\n",
       "      <td>married</td>\n",
       "      <td>tertiary</td>\n",
       "      <td>no</td>\n",
       "      <td>2143</td>\n",
       "      <td>yes</td>\n",
       "      <td>no</td>\n",
       "      <td>unknown</td>\n",
       "      <td>5</td>\n",
       "      <td>may</td>\n",
       "      <td>261</td>\n",
       "      <td>1</td>\n",
       "      <td>-1</td>\n",
       "      <td>0</td>\n",
       "      <td>unknown</td>\n",
       "      <td>no</td>\n",
       "    </tr>\n",
       "    <tr>\n",
       "      <th>1</th>\n",
       "      <td>44</td>\n",
       "      <td>technician</td>\n",
       "      <td>single</td>\n",
       "      <td>secondary</td>\n",
       "      <td>no</td>\n",
       "      <td>29</td>\n",
       "      <td>yes</td>\n",
       "      <td>no</td>\n",
       "      <td>unknown</td>\n",
       "      <td>5</td>\n",
       "      <td>may</td>\n",
       "      <td>151</td>\n",
       "      <td>1</td>\n",
       "      <td>-1</td>\n",
       "      <td>0</td>\n",
       "      <td>unknown</td>\n",
       "      <td>no</td>\n",
       "    </tr>\n",
       "    <tr>\n",
       "      <th>2</th>\n",
       "      <td>33</td>\n",
       "      <td>entrepreneur</td>\n",
       "      <td>married</td>\n",
       "      <td>secondary</td>\n",
       "      <td>no</td>\n",
       "      <td>2</td>\n",
       "      <td>yes</td>\n",
       "      <td>yes</td>\n",
       "      <td>unknown</td>\n",
       "      <td>5</td>\n",
       "      <td>may</td>\n",
       "      <td>76</td>\n",
       "      <td>1</td>\n",
       "      <td>-1</td>\n",
       "      <td>0</td>\n",
       "      <td>unknown</td>\n",
       "      <td>no</td>\n",
       "    </tr>\n",
       "    <tr>\n",
       "      <th>3</th>\n",
       "      <td>47</td>\n",
       "      <td>blue-collar</td>\n",
       "      <td>married</td>\n",
       "      <td>unknown</td>\n",
       "      <td>no</td>\n",
       "      <td>1506</td>\n",
       "      <td>yes</td>\n",
       "      <td>no</td>\n",
       "      <td>unknown</td>\n",
       "      <td>5</td>\n",
       "      <td>may</td>\n",
       "      <td>92</td>\n",
       "      <td>1</td>\n",
       "      <td>-1</td>\n",
       "      <td>0</td>\n",
       "      <td>unknown</td>\n",
       "      <td>no</td>\n",
       "    </tr>\n",
       "    <tr>\n",
       "      <th>4</th>\n",
       "      <td>33</td>\n",
       "      <td>unknown</td>\n",
       "      <td>single</td>\n",
       "      <td>unknown</td>\n",
       "      <td>no</td>\n",
       "      <td>1</td>\n",
       "      <td>no</td>\n",
       "      <td>no</td>\n",
       "      <td>unknown</td>\n",
       "      <td>5</td>\n",
       "      <td>may</td>\n",
       "      <td>198</td>\n",
       "      <td>1</td>\n",
       "      <td>-1</td>\n",
       "      <td>0</td>\n",
       "      <td>unknown</td>\n",
       "      <td>no</td>\n",
       "    </tr>\n",
       "    <tr>\n",
       "      <th>...</th>\n",
       "      <td>...</td>\n",
       "      <td>...</td>\n",
       "      <td>...</td>\n",
       "      <td>...</td>\n",
       "      <td>...</td>\n",
       "      <td>...</td>\n",
       "      <td>...</td>\n",
       "      <td>...</td>\n",
       "      <td>...</td>\n",
       "      <td>...</td>\n",
       "      <td>...</td>\n",
       "      <td>...</td>\n",
       "      <td>...</td>\n",
       "      <td>...</td>\n",
       "      <td>...</td>\n",
       "      <td>...</td>\n",
       "      <td>...</td>\n",
       "    </tr>\n",
       "    <tr>\n",
       "      <th>45206</th>\n",
       "      <td>51</td>\n",
       "      <td>technician</td>\n",
       "      <td>married</td>\n",
       "      <td>tertiary</td>\n",
       "      <td>no</td>\n",
       "      <td>825</td>\n",
       "      <td>no</td>\n",
       "      <td>no</td>\n",
       "      <td>cellular</td>\n",
       "      <td>17</td>\n",
       "      <td>nov</td>\n",
       "      <td>977</td>\n",
       "      <td>3</td>\n",
       "      <td>-1</td>\n",
       "      <td>0</td>\n",
       "      <td>unknown</td>\n",
       "      <td>yes</td>\n",
       "    </tr>\n",
       "    <tr>\n",
       "      <th>45207</th>\n",
       "      <td>71</td>\n",
       "      <td>retired</td>\n",
       "      <td>divorced</td>\n",
       "      <td>primary</td>\n",
       "      <td>no</td>\n",
       "      <td>1729</td>\n",
       "      <td>no</td>\n",
       "      <td>no</td>\n",
       "      <td>cellular</td>\n",
       "      <td>17</td>\n",
       "      <td>nov</td>\n",
       "      <td>456</td>\n",
       "      <td>2</td>\n",
       "      <td>-1</td>\n",
       "      <td>0</td>\n",
       "      <td>unknown</td>\n",
       "      <td>yes</td>\n",
       "    </tr>\n",
       "    <tr>\n",
       "      <th>45208</th>\n",
       "      <td>72</td>\n",
       "      <td>retired</td>\n",
       "      <td>married</td>\n",
       "      <td>secondary</td>\n",
       "      <td>no</td>\n",
       "      <td>5715</td>\n",
       "      <td>no</td>\n",
       "      <td>no</td>\n",
       "      <td>cellular</td>\n",
       "      <td>17</td>\n",
       "      <td>nov</td>\n",
       "      <td>1127</td>\n",
       "      <td>5</td>\n",
       "      <td>184</td>\n",
       "      <td>3</td>\n",
       "      <td>success</td>\n",
       "      <td>yes</td>\n",
       "    </tr>\n",
       "    <tr>\n",
       "      <th>45209</th>\n",
       "      <td>57</td>\n",
       "      <td>blue-collar</td>\n",
       "      <td>married</td>\n",
       "      <td>secondary</td>\n",
       "      <td>no</td>\n",
       "      <td>668</td>\n",
       "      <td>no</td>\n",
       "      <td>no</td>\n",
       "      <td>telephone</td>\n",
       "      <td>17</td>\n",
       "      <td>nov</td>\n",
       "      <td>508</td>\n",
       "      <td>4</td>\n",
       "      <td>-1</td>\n",
       "      <td>0</td>\n",
       "      <td>unknown</td>\n",
       "      <td>no</td>\n",
       "    </tr>\n",
       "    <tr>\n",
       "      <th>45210</th>\n",
       "      <td>37</td>\n",
       "      <td>entrepreneur</td>\n",
       "      <td>married</td>\n",
       "      <td>secondary</td>\n",
       "      <td>no</td>\n",
       "      <td>2971</td>\n",
       "      <td>no</td>\n",
       "      <td>no</td>\n",
       "      <td>cellular</td>\n",
       "      <td>17</td>\n",
       "      <td>nov</td>\n",
       "      <td>361</td>\n",
       "      <td>2</td>\n",
       "      <td>188</td>\n",
       "      <td>11</td>\n",
       "      <td>other</td>\n",
       "      <td>no</td>\n",
       "    </tr>\n",
       "  </tbody>\n",
       "</table>\n",
       "<p>45211 rows × 17 columns</p>\n",
       "</div>"
      ],
      "text/plain": [
       "       age           job   marital  education default  balance housing loan  \\\n",
       "0       58    management   married   tertiary      no     2143     yes   no   \n",
       "1       44    technician    single  secondary      no       29     yes   no   \n",
       "2       33  entrepreneur   married  secondary      no        2     yes  yes   \n",
       "3       47   blue-collar   married    unknown      no     1506     yes   no   \n",
       "4       33       unknown    single    unknown      no        1      no   no   \n",
       "...    ...           ...       ...        ...     ...      ...     ...  ...   \n",
       "45206   51    technician   married   tertiary      no      825      no   no   \n",
       "45207   71       retired  divorced    primary      no     1729      no   no   \n",
       "45208   72       retired   married  secondary      no     5715      no   no   \n",
       "45209   57   blue-collar   married  secondary      no      668      no   no   \n",
       "45210   37  entrepreneur   married  secondary      no     2971      no   no   \n",
       "\n",
       "         contact  day month  duration  campaign  pdays  previous poutcome    y  \n",
       "0        unknown    5   may       261         1     -1         0  unknown   no  \n",
       "1        unknown    5   may       151         1     -1         0  unknown   no  \n",
       "2        unknown    5   may        76         1     -1         0  unknown   no  \n",
       "3        unknown    5   may        92         1     -1         0  unknown   no  \n",
       "4        unknown    5   may       198         1     -1         0  unknown   no  \n",
       "...          ...  ...   ...       ...       ...    ...       ...      ...  ...  \n",
       "45206   cellular   17   nov       977         3     -1         0  unknown  yes  \n",
       "45207   cellular   17   nov       456         2     -1         0  unknown  yes  \n",
       "45208   cellular   17   nov      1127         5    184         3  success  yes  \n",
       "45209  telephone   17   nov       508         4     -1         0  unknown   no  \n",
       "45210   cellular   17   nov       361         2    188        11    other   no  \n",
       "\n",
       "[45211 rows x 17 columns]"
      ]
     },
     "execution_count": 200,
     "metadata": {},
     "output_type": "execute_result"
    }
   ],
   "source": [
    "df"
   ]
  },
  {
   "cell_type": "code",
   "execution_count": 201,
   "id": "c20d97a0",
   "metadata": {
    "scrolled": true
   },
   "outputs": [
    {
     "name": "stdout",
     "output_type": "stream",
     "text": [
      "['age', 'job', 'marital', 'education', 'default', 'balance', 'housing', 'loan', 'contact', 'day', 'month', 'duration', 'campaign', 'pdays', 'previous', 'poutcome', 'y']\n"
     ]
    }
   ],
   "source": [
    "print(list(df.columns))\n",
    "name = list(df.columns)"
   ]
  },
  {
   "cell_type": "markdown",
   "id": "73947d41",
   "metadata": {},
   "source": [
    "### giới thiệu về từng tính chất\n",
    "1. age (numeric) \n",
    "2. job : type of job (categorical: \"admin.\",\"unknown\",\"unemployed\",\"management\",\"housemaid\",\"entrepreneur\",\"student\",\n",
    "\"blue-collar\",\"self-employed\",\"retired\",\"technician\",\"services\")\n",
    "3. marital : marital status (categorical: \"married\",\"divorced\",\"single\"; note: \"divorced\" means divorced or widowed)\n",
    "4. education (categorical: \"unknown\",\"secondary\",\"primary\",\"tertiary\")\n",
    "5. default: has credit in default? (binary: \"yes\",\"no\") => nợ xấu\n",
    "6. balance: average yearly balance, in euros (numeric)\n",
    "7. housing: has housing loan? (binary: \"yes\",\"no\")\n",
    "8. loan: has personal loan? (binary: \"yes\",\"no\")\n",
    "# related with the last contact of the current campaign:\n",
    "9. contact: contact communication type (categorical: \"unknown\",\"telephone\",\"cellular\")\n",
    "10. day: last contact day of the month (numeric)\n",
    "11. month: last contact month of year (categorical: \"jan\", \"feb\", \"mar\", …, \"nov\", \"dec\")\n",
    "12. duration: last contact duration, in seconds (numeric)\n",
    "# other attributes:\n",
    "13. campaign: number of contacts performed during this campaign and for this client (numeric, includes last contact)\n",
    "14. pdays: number of days that passed by after the client was last contacted from a previous campaign (numeric, -1 means client was not previously contacted)\n",
    "15. previous: number of contacts performed before this campaign and for this client (numeric)\n",
    "16. poutcome: outcome of the previous marketing campaign (categorical: \"unknown\",\"other\",\"failure\",\"success\")\n",
    "# Output variable (desired target):\n",
    "17. y - has the client subscribed a term deposit? (binary: \"yes\",\"no\")\n"
   ]
  },
  {
   "cell_type": "code",
   "execution_count": 202,
   "id": "43a4f1ed",
   "metadata": {},
   "outputs": [],
   "source": [
    "#build theo dạng eda \n",
    "# part 1: khái quát sơ qua data, các mặt đơn giản của từng chỉ số\n",
    "# tỉ lệ + phân bố + thống kê\n",
    "# mô tả dữ liệu\n",
    "# mô tả cái gi? \n",
    "# chia ra ntn? \n",
    "# đồ thị nào tái hiện được hình ảnh"
   ]
  },
  {
   "cell_type": "markdown",
   "id": "e470cd98",
   "metadata": {},
   "source": [
    "\n",
    "### các biểu đồ dự kiến vẽ\n",
    "1. age : biểu đồ phân bố\n",
    "2. job : dạng bánh or dạng cột => tùy quá trình\n",
    "3. marital : dạng bánh\n",
    "4. education : dạng bánh\n",
    "5. default: dạng bánh (nợ xấu)\n",
    "6. balance: dạng phân bố\n",
    "7. housing: dạng bánh\n",
    "8. loan: dạng bánh\n",
    "# related with the last contact of the current campaign:\n",
    "9. contact: dạng bánh\n",
    "10. day: last contact day of the month (numeric) => ko có ngày tham gia => check lại => khả năng loại ra\n",
    "11. month: last contact month of year (categorical: \"jan\", \"feb\", \"mar\", …, \"nov\", \"dec\") => khả năng loại ra\n",
    "12. duration: last contact duration, in seconds (numeric) => phân bố (cho 2 loại win/lose)\n",
    "# other attributes:\n",
    "13. campaign: number of contacts performed during this campaign and for this client (phân bố)\n",
    "14. pdays: number of days that passed by after the client was last contacted from a previous campaign (numeric, -1 means client was not previously contacted)\n",
    "15. previous: number of contacts performed before this campaign and for this client (numeric) => phân biệt khách hàng mới/ cũ / bị gọi nhiều or mới\n",
    "16. poutcome: outcome of the previous marketing campaign (categorical: \"unknown\",\"other\",\"failure\",\"success\")\n",
    "# Output variable (desired target):\n",
    "17. y - has the client subscribed a term deposit? (binary: \"yes\",\"no\")\n",
    "=> ko đo được doanh thu. "
   ]
  },
  {
   "cell_type": "markdown",
   "id": "f67fb31a",
   "metadata": {},
   "source": [
    "# các dạng biểu đồ:\n",
    "1. age : biểu đồ phân bố\n",
    "2. job : dạng bánh or dạng cột => tùy quá trình\n",
    "3. marital : dạng bánh\n",
    "4. education : dạng bánh\n",
    "5. default: dạng bánh (nợ xấu)\n",
    "6. balance: dạng phân bố\n",
    "7. housing: dạng bánh\n",
    "8. loan: dạng bánh\n",
    "9. contact: dạng bánh\n",
    "10. duration: last contact duration, in seconds (numeric) => phân bố (cho 2 loại win/lose)\n",
    "11. campaign: number of contacts performed during this campaign and for this client (phân bố)\n",
    "# \n",
    "3 loại biểu đồ chính: \n",
    "    phân bố, pie , cột (maybe)"
   ]
  },
  {
   "cell_type": "code",
   "execution_count": 203,
   "id": "82aa14cd",
   "metadata": {},
   "outputs": [],
   "source": [
    "df[\"Count\"] = 1\n",
    "def Success_rate_rank_count(df,a,b,c) : \n",
    "    a = df.pivot_table(index = a ,columns = b, values = c ,aggfunc = [\"count\"])\n",
    "    a = a.fillna(0)\n",
    "    a.columns= a.columns.droplevel(0)\n",
    "    a[\"Total\"] = a[\"yes\"] + a[\"no\"]\n",
    "    a[\"Success rate\"] = a[\"yes\"]/a[\"Total\"]\n",
    "    a = a.sort_values(\"Success rate\",ascending = False)\n",
    "    a[\"Success rate\"] = a[\"Success rate\"].map('{:.2%}'.format)\n",
    "    return a\n",
    "def Success_rate(df,a):\n",
    "    result = df[a].value_counts()[\"yes\"]/(df[a].value_counts()[\"no\"]+df[a].value_counts()[\"yes\"])\n",
    "    return result\n"
   ]
  },
  {
   "cell_type": "code",
   "execution_count": 204,
   "id": "b88c8ee2",
   "metadata": {},
   "outputs": [],
   "source": [
    "def bar_col(df,name):\n",
    "    df = df.reset_index()#drop = True\n",
    "    df[\"Success rate\"] = df[\"Success rate\"].apply(lambda x: (float(x.strip(\"%\"))/100))\n",
    "    df = df.sort_values(\"Success rate\",ascending = True)\n",
    "    fig, ax = plt.subplots(figsize=[15, 5])\n",
    "    df.plot.bar(x = name, y = \"Success rate\", ax = ax)\n",
    "    plt.tick_params(left = False,labelleft = False,labelbottom = True, bottom = False,labelsize  = 15)\n",
    "    ax.set_title(name.upper(),weight = \"bold\",fontsize= 20)\n",
    "    plt.xticks(rotation = 0)\n",
    "    y = list(df[\"Success rate\"])\n",
    "    for i in range(len(y)):\n",
    "        ax.text(i,y[i]/2,('{:.2%}'.format(y[i])),ha = \"center\", va = \"center\", color = \"w\",size = 'x-large',weight = \"bold\")# weight = đậm nhạt , size = cỡ chữ.\n",
    "\n",
    "    plt.show()    \n"
   ]
  },
  {
   "cell_type": "code",
   "execution_count": 205,
   "id": "09dcadf8",
   "metadata": {},
   "outputs": [
    {
     "name": "stdout",
     "output_type": "stream",
     "text": [
      "11.698%\n"
     ]
    }
   ],
   "source": [
    "df[\"y\"].value_counts()\n",
    "print('{:.3%}'.format(df[df[\"y\"] == \"yes\"][\"y\"].count() / df[\"y\"].count() ))"
   ]
  },
  {
   "cell_type": "code",
   "execution_count": 206,
   "id": "90db54f4",
   "metadata": {
    "scrolled": true
   },
   "outputs": [
    {
     "data": {
      "image/png": "[encoded data removed]",
      "text/plain": [
       "<Figure size 1080x360 with 1 Axes>"
      ]
     },
     "metadata": {
      "needs_background": "light"
     },
     "output_type": "display_data"
    }
   ],
   "source": [
    "# marital \n",
    "marital = Success_rate_rank_count(df,\"marital\",\"y\",\"Count\")\n",
    "marital\n",
    "\n",
    "marital = marital.reset_index()#drop = True\n",
    "marital[\"Success rate\"] = marital[\"Success rate\"].apply(lambda x: (float(x.strip(\"%\"))/100))\n",
    "marital = marital.sort_values(\"Success rate\",ascending = True)\n",
    "fig, ax = plt.subplots(figsize=[15, 5])\n",
    "marital.plot.bar(x = \"marital\", y = \"Success rate\", ax = ax)\n",
    "plt.tick_params(left = False,labelleft = False,labelbottom = True, bottom = False,labelsize  = 15)\n",
    "ax.set_title(\"MARITAL \",weight = \"bold\",fontsize= 20)\n",
    "plt.xticks(rotation = 0)\n",
    "y = list(marital[\"Success rate\"])\n",
    "for i in range(len(y)):\n",
    "    ax.text(i,y[i]/2,('{:.2%}'.format(y[i])),ha = \"center\", va = \"center\", color = \"w\",size = 'x-large',weight = \"bold\")# weight = đậm nhạt , size = cỡ chữ.\n",
    "    \n",
    "plt.show()    \n"
   ]
  },
  {
   "cell_type": "code",
   "execution_count": 207,
   "id": "0f946af9",
   "metadata": {},
   "outputs": [
    {
     "data": {
      "text/html": [
       "<div>\n",
       "<style scoped>\n",
       "    .dataframe tbody tr th:only-of-type {\n",
       "        vertical-align: middle;\n",
       "    }\n",
       "\n",
       "    .dataframe tbody tr th {\n",
       "        vertical-align: top;\n",
       "    }\n",
       "\n",
       "    .dataframe thead th {\n",
       "        text-align: right;\n",
       "    }\n",
       "</style>\n",
       "<table border=\"1\" class=\"dataframe\">\n",
       "  <thead>\n",
       "    <tr style=\"text-align: right;\">\n",
       "      <th>y</th>\n",
       "      <th>marital</th>\n",
       "      <th>no</th>\n",
       "      <th>yes</th>\n",
       "      <th>Total</th>\n",
       "      <th>Success rate</th>\n",
       "    </tr>\n",
       "  </thead>\n",
       "  <tbody>\n",
       "    <tr>\n",
       "      <th>2</th>\n",
       "      <td>married</td>\n",
       "      <td>24459</td>\n",
       "      <td>2755</td>\n",
       "      <td>27214</td>\n",
       "      <td>0.1012</td>\n",
       "    </tr>\n",
       "    <tr>\n",
       "      <th>1</th>\n",
       "      <td>divorced</td>\n",
       "      <td>4585</td>\n",
       "      <td>622</td>\n",
       "      <td>5207</td>\n",
       "      <td>0.1195</td>\n",
       "    </tr>\n",
       "    <tr>\n",
       "      <th>0</th>\n",
       "      <td>single</td>\n",
       "      <td>10878</td>\n",
       "      <td>1912</td>\n",
       "      <td>12790</td>\n",
       "      <td>0.1495</td>\n",
       "    </tr>\n",
       "  </tbody>\n",
       "</table>\n",
       "</div>"
      ],
      "text/plain": [
       "y   marital     no   yes  Total  Success rate\n",
       "2   married  24459  2755  27214        0.1012\n",
       "1  divorced   4585   622   5207        0.1195\n",
       "0    single  10878  1912  12790        0.1495"
      ]
     },
     "execution_count": 207,
     "metadata": {},
     "output_type": "execute_result"
    }
   ],
   "source": [
    "marital"
   ]
  },
  {
   "cell_type": "code",
   "execution_count": 208,
   "id": "bb16e91c",
   "metadata": {
    "scrolled": true
   },
   "outputs": [
    {
     "data": {
      "image/png": "[encoded data removed]",
      "text/plain": [
       "<Figure size 1080x360 with 1 Axes>"
      ]
     },
     "metadata": {
      "needs_background": "light"
     },
     "output_type": "display_data"
    }
   ],
   "source": [
    "# education \n",
    "education = Success_rate_rank_count(df,\"education\",\"y\",\"Count\")\n",
    "education\n",
    "bar_col(education,\"education\")"
   ]
  },
  {
   "cell_type": "code",
   "execution_count": 209,
   "id": "4526392f",
   "metadata": {},
   "outputs": [
    {
     "data": {
      "image/png": "[encoded data removed]",
      "text/plain": [
       "<Figure size 1080x360 with 1 Axes>"
      ]
     },
     "metadata": {
      "needs_background": "light"
     },
     "output_type": "display_data"
    }
   ],
   "source": [
    "# default: (nợ xấu)\n",
    "default = Success_rate_rank_count(df,\"default\",\"y\",\"Count\")\n",
    "default\n",
    "bar_col(default,\"default\")"
   ]
  },
  {
   "cell_type": "code",
   "execution_count": 210,
   "id": "18c97dde",
   "metadata": {},
   "outputs": [
    {
     "data": {
      "image/png": "[encoded data removed]",
      "text/plain": [
       "<Figure size 1080x360 with 1 Axes>"
      ]
     },
     "metadata": {
      "needs_background": "light"
     },
     "output_type": "display_data"
    }
   ],
   "source": [
    "# housing: nợ mua nhà\n",
    "    \n",
    "housing = Success_rate_rank_count(df,\"housing\",\"y\",\"Count\")\n",
    "housing.loc['yes','yes']/sum(housing[\"yes\"])\n",
    "housing\n",
    "bar_col(housing,\"housing\")"
   ]
  },
  {
   "cell_type": "code",
   "execution_count": 211,
   "id": "34f82916",
   "metadata": {},
   "outputs": [
    {
     "data": {
      "text/html": [
       "<div>\n",
       "<style scoped>\n",
       "    .dataframe tbody tr th:only-of-type {\n",
       "        vertical-align: middle;\n",
       "    }\n",
       "\n",
       "    .dataframe tbody tr th {\n",
       "        vertical-align: top;\n",
       "    }\n",
       "\n",
       "    .dataframe thead th {\n",
       "        text-align: right;\n",
       "    }\n",
       "</style>\n",
       "<table border=\"1\" class=\"dataframe\">\n",
       "  <thead>\n",
       "    <tr style=\"text-align: right;\">\n",
       "      <th>y</th>\n",
       "      <th>no</th>\n",
       "      <th>yes</th>\n",
       "      <th>Total</th>\n",
       "      <th>Success rate</th>\n",
       "    </tr>\n",
       "    <tr>\n",
       "      <th>loan</th>\n",
       "      <th></th>\n",
       "      <th></th>\n",
       "      <th></th>\n",
       "      <th></th>\n",
       "    </tr>\n",
       "  </thead>\n",
       "  <tbody>\n",
       "    <tr>\n",
       "      <th>no</th>\n",
       "      <td>33162</td>\n",
       "      <td>4805</td>\n",
       "      <td>37967</td>\n",
       "      <td>12.66%</td>\n",
       "    </tr>\n",
       "    <tr>\n",
       "      <th>yes</th>\n",
       "      <td>6760</td>\n",
       "      <td>484</td>\n",
       "      <td>7244</td>\n",
       "      <td>6.68%</td>\n",
       "    </tr>\n",
       "  </tbody>\n",
       "</table>\n",
       "</div>"
      ],
      "text/plain": [
       "y        no   yes  Total Success rate\n",
       "loan                                 \n",
       "no    33162  4805  37967       12.66%\n",
       "yes    6760   484   7244        6.68%"
      ]
     },
     "execution_count": 211,
     "metadata": {},
     "output_type": "execute_result"
    }
   ],
   "source": [
    "# loan: vay nợ\n",
    "loan = Success_rate_rank_count(df,\"loan\",\"y\",\"Count\")\n",
    "loan.loc['yes','yes']/sum(loan[\"yes\"])\n",
    "loan"
   ]
  },
  {
   "cell_type": "code",
   "execution_count": 212,
   "id": "46a45bfb",
   "metadata": {
    "scrolled": true
   },
   "outputs": [
    {
     "data": {
      "image/png": "[encoded data removed]",
      "text/plain": [
       "<Figure size 1080x360 with 1 Axes>"
      ]
     },
     "metadata": {
      "needs_background": "light"
     },
     "output_type": "display_data"
    }
   ],
   "source": [
    "# contact: dạng bánh\n",
    "contact = Success_rate_rank_count(df,\"contact\",\"y\",\"Count\")\n",
    "\n",
    "contact\n",
    "bar_col(contact,\"contact\")"
   ]
  },
  {
   "cell_type": "code",
   "execution_count": 213,
   "id": "ae11453f",
   "metadata": {
    "scrolled": true
   },
   "outputs": [
    {
     "data": {
      "text/plain": [
       "3.0"
      ]
     },
     "execution_count": 213,
     "metadata": {},
     "output_type": "execute_result"
    }
   ],
   "source": [
    "# campaign: number of contacts performed during this campaign and for this client (phân bố)\n",
    "campaign = Success_rate_rank_count(df,\"campaign\",\"y\",\"Count\")\n",
    "df[\"campaign\"].mean()\n",
    "df[\"campaign\"].median()\n",
    "campaign.sort_index()\n",
    "np.quantile(df[\"campaign\"],0.75)\n"
   ]
  },
  {
   "cell_type": "code",
   "execution_count": 214,
   "id": "68e7885a",
   "metadata": {},
   "outputs": [],
   "source": [
    "# phân tích kỹ hơn"
   ]
  },
  {
   "cell_type": "code",
   "execution_count": 215,
   "id": "7899357b",
   "metadata": {
    "scrolled": true
   },
   "outputs": [
    {
     "data": {
      "text/html": [
       "<div>\n",
       "<style scoped>\n",
       "    .dataframe tbody tr th:only-of-type {\n",
       "        vertical-align: middle;\n",
       "    }\n",
       "\n",
       "    .dataframe tbody tr th {\n",
       "        vertical-align: top;\n",
       "    }\n",
       "\n",
       "    .dataframe thead th {\n",
       "        text-align: right;\n",
       "    }\n",
       "</style>\n",
       "<table border=\"1\" class=\"dataframe\">\n",
       "  <thead>\n",
       "    <tr style=\"text-align: right;\">\n",
       "      <th>y</th>\n",
       "      <th>no</th>\n",
       "      <th>yes</th>\n",
       "      <th>Total</th>\n",
       "      <th>Success rate</th>\n",
       "    </tr>\n",
       "    <tr>\n",
       "      <th>age</th>\n",
       "      <th></th>\n",
       "      <th></th>\n",
       "      <th></th>\n",
       "      <th></th>\n",
       "    </tr>\n",
       "  </thead>\n",
       "  <tbody>\n",
       "    <tr>\n",
       "      <th>93</th>\n",
       "      <td>0.0</td>\n",
       "      <td>2.0</td>\n",
       "      <td>2.0</td>\n",
       "      <td>100.00%</td>\n",
       "    </tr>\n",
       "    <tr>\n",
       "      <th>92</th>\n",
       "      <td>0.0</td>\n",
       "      <td>2.0</td>\n",
       "      <td>2.0</td>\n",
       "      <td>100.00%</td>\n",
       "    </tr>\n",
       "    <tr>\n",
       "      <th>90</th>\n",
       "      <td>0.0</td>\n",
       "      <td>2.0</td>\n",
       "      <td>2.0</td>\n",
       "      <td>100.00%</td>\n",
       "    </tr>\n",
       "    <tr>\n",
       "      <th>85</th>\n",
       "      <td>1.0</td>\n",
       "      <td>4.0</td>\n",
       "      <td>5.0</td>\n",
       "      <td>80.00%</td>\n",
       "    </tr>\n",
       "    <tr>\n",
       "      <th>87</th>\n",
       "      <td>1.0</td>\n",
       "      <td>3.0</td>\n",
       "      <td>4.0</td>\n",
       "      <td>75.00%</td>\n",
       "    </tr>\n",
       "    <tr>\n",
       "      <th>18</th>\n",
       "      <td>5.0</td>\n",
       "      <td>7.0</td>\n",
       "      <td>12.0</td>\n",
       "      <td>58.33%</td>\n",
       "    </tr>\n",
       "    <tr>\n",
       "      <th>68</th>\n",
       "      <td>15.0</td>\n",
       "      <td>21.0</td>\n",
       "      <td>36.0</td>\n",
       "      <td>58.33%</td>\n",
       "    </tr>\n",
       "    <tr>\n",
       "      <th>84</th>\n",
       "      <td>4.0</td>\n",
       "      <td>5.0</td>\n",
       "      <td>9.0</td>\n",
       "      <td>55.56%</td>\n",
       "    </tr>\n",
       "    <tr>\n",
       "      <th>73</th>\n",
       "      <td>20.0</td>\n",
       "      <td>24.0</td>\n",
       "      <td>44.0</td>\n",
       "      <td>54.55%</td>\n",
       "    </tr>\n",
       "    <tr>\n",
       "      <th>77</th>\n",
       "      <td>22.0</td>\n",
       "      <td>22.0</td>\n",
       "      <td>44.0</td>\n",
       "      <td>50.00%</td>\n",
       "    </tr>\n",
       "  </tbody>\n",
       "</table>\n",
       "</div>"
      ],
      "text/plain": [
       "y      no   yes  Total Success rate\n",
       "age                                \n",
       "93    0.0   2.0    2.0      100.00%\n",
       "92    0.0   2.0    2.0      100.00%\n",
       "90    0.0   2.0    2.0      100.00%\n",
       "85    1.0   4.0    5.0       80.00%\n",
       "87    1.0   3.0    4.0       75.00%\n",
       "18    5.0   7.0   12.0       58.33%\n",
       "68   15.0  21.0   36.0       58.33%\n",
       "84    4.0   5.0    9.0       55.56%\n",
       "73   20.0  24.0   44.0       54.55%\n",
       "77   22.0  22.0   44.0       50.00%"
      ]
     },
     "execution_count": 215,
     "metadata": {},
     "output_type": "execute_result"
    }
   ],
   "source": [
    "#age\n",
    "age = Success_rate_rank_count(df,\"age\",\"y\",\"Count\")\n",
    "age.head(10)\n"
   ]
  },
  {
   "cell_type": "code",
   "execution_count": 216,
   "id": "a02ff0d5",
   "metadata": {},
   "outputs": [
    {
     "data": {
      "text/plain": [
       "<AxesSubplot:>"
      ]
     },
     "execution_count": 216,
     "metadata": {},
     "output_type": "execute_result"
    },
    {
     "data": {
      "image/png": "[encoded data removed]",
      "text/plain": [
       "<Figure size 432x288 with 1 Axes>"
      ]
     },
     "metadata": {
      "needs_background": "light"
     },
     "output_type": "display_data"
    }
   ],
   "source": [
    "# balance: dạng phân bố\n",
    "balance = Success_rate_rank_count(df,\"balance\",\"y\",\"Count\")\n",
    "balance\n",
    "df[\"balance\"].hist(bins = 100)"
   ]
  },
  {
   "cell_type": "code",
   "execution_count": 217,
   "id": "8a003c2f",
   "metadata": {},
   "outputs": [
    {
     "data": {
      "text/html": [
       "<div>\n",
       "<style scoped>\n",
       "    .dataframe tbody tr th:only-of-type {\n",
       "        vertical-align: middle;\n",
       "    }\n",
       "\n",
       "    .dataframe tbody tr th {\n",
       "        vertical-align: top;\n",
       "    }\n",
       "\n",
       "    .dataframe thead th {\n",
       "        text-align: right;\n",
       "    }\n",
       "</style>\n",
       "<table border=\"1\" class=\"dataframe\">\n",
       "  <thead>\n",
       "    <tr style=\"text-align: right;\">\n",
       "      <th>y</th>\n",
       "      <th>no</th>\n",
       "      <th>yes</th>\n",
       "      <th>Total</th>\n",
       "      <th>Success rate</th>\n",
       "    </tr>\n",
       "    <tr>\n",
       "      <th>duration</th>\n",
       "      <th></th>\n",
       "      <th></th>\n",
       "      <th></th>\n",
       "      <th></th>\n",
       "    </tr>\n",
       "  </thead>\n",
       "  <tbody>\n",
       "    <tr>\n",
       "      <th>1973</th>\n",
       "      <td>0.0</td>\n",
       "      <td>1.0</td>\n",
       "      <td>1.0</td>\n",
       "      <td>100.00%</td>\n",
       "    </tr>\n",
       "    <tr>\n",
       "      <th>1129</th>\n",
       "      <td>0.0</td>\n",
       "      <td>1.0</td>\n",
       "      <td>1.0</td>\n",
       "      <td>100.00%</td>\n",
       "    </tr>\n",
       "    <tr>\n",
       "      <th>1158</th>\n",
       "      <td>0.0</td>\n",
       "      <td>1.0</td>\n",
       "      <td>1.0</td>\n",
       "      <td>100.00%</td>\n",
       "    </tr>\n",
       "    <tr>\n",
       "      <th>1154</th>\n",
       "      <td>0.0</td>\n",
       "      <td>1.0</td>\n",
       "      <td>1.0</td>\n",
       "      <td>100.00%</td>\n",
       "    </tr>\n",
       "    <tr>\n",
       "      <th>1153</th>\n",
       "      <td>0.0</td>\n",
       "      <td>2.0</td>\n",
       "      <td>2.0</td>\n",
       "      <td>100.00%</td>\n",
       "    </tr>\n",
       "    <tr>\n",
       "      <th>...</th>\n",
       "      <td>...</td>\n",
       "      <td>...</td>\n",
       "      <td>...</td>\n",
       "      <td>...</td>\n",
       "    </tr>\n",
       "    <tr>\n",
       "      <th>1170</th>\n",
       "      <td>1.0</td>\n",
       "      <td>0.0</td>\n",
       "      <td>1.0</td>\n",
       "      <td>0.00%</td>\n",
       "    </tr>\n",
       "    <tr>\n",
       "      <th>1168</th>\n",
       "      <td>1.0</td>\n",
       "      <td>0.0</td>\n",
       "      <td>1.0</td>\n",
       "      <td>0.00%</td>\n",
       "    </tr>\n",
       "    <tr>\n",
       "      <th>1167</th>\n",
       "      <td>2.0</td>\n",
       "      <td>0.0</td>\n",
       "      <td>2.0</td>\n",
       "      <td>0.00%</td>\n",
       "    </tr>\n",
       "    <tr>\n",
       "      <th>1166</th>\n",
       "      <td>4.0</td>\n",
       "      <td>0.0</td>\n",
       "      <td>4.0</td>\n",
       "      <td>0.00%</td>\n",
       "    </tr>\n",
       "    <tr>\n",
       "      <th>4918</th>\n",
       "      <td>1.0</td>\n",
       "      <td>0.0</td>\n",
       "      <td>1.0</td>\n",
       "      <td>0.00%</td>\n",
       "    </tr>\n",
       "  </tbody>\n",
       "</table>\n",
       "<p>1573 rows × 4 columns</p>\n",
       "</div>"
      ],
      "text/plain": [
       "y          no  yes  Total Success rate\n",
       "duration                              \n",
       "1973      0.0  1.0    1.0      100.00%\n",
       "1129      0.0  1.0    1.0      100.00%\n",
       "1158      0.0  1.0    1.0      100.00%\n",
       "1154      0.0  1.0    1.0      100.00%\n",
       "1153      0.0  2.0    2.0      100.00%\n",
       "...       ...  ...    ...          ...\n",
       "1170      1.0  0.0    1.0        0.00%\n",
       "1168      1.0  0.0    1.0        0.00%\n",
       "1167      2.0  0.0    2.0        0.00%\n",
       "1166      4.0  0.0    4.0        0.00%\n",
       "4918      1.0  0.0    1.0        0.00%\n",
       "\n",
       "[1573 rows x 4 columns]"
      ]
     },
     "execution_count": 217,
     "metadata": {},
     "output_type": "execute_result"
    }
   ],
   "source": [
    "# duration: last contact duration, in seconds (numeric) => phân bố (cho 2 loại win/lose)\n",
    "duration = Success_rate_rank_count(df,\"duration\",\"y\",\"Count\")\n",
    "duration"
   ]
  },
  {
   "cell_type": "code",
   "execution_count": 218,
   "id": "a9c8d58e",
   "metadata": {
    "scrolled": true
   },
   "outputs": [
    {
     "data": {
      "text/html": [
       "<div>\n",
       "<style scoped>\n",
       "    .dataframe tbody tr th:only-of-type {\n",
       "        vertical-align: middle;\n",
       "    }\n",
       "\n",
       "    .dataframe tbody tr th {\n",
       "        vertical-align: top;\n",
       "    }\n",
       "\n",
       "    .dataframe thead th {\n",
       "        text-align: right;\n",
       "    }\n",
       "</style>\n",
       "<table border=\"1\" class=\"dataframe\">\n",
       "  <thead>\n",
       "    <tr style=\"text-align: right;\">\n",
       "      <th>y</th>\n",
       "      <th>no</th>\n",
       "      <th>yes</th>\n",
       "      <th>Total</th>\n",
       "      <th>Success rate</th>\n",
       "    </tr>\n",
       "    <tr>\n",
       "      <th>job</th>\n",
       "      <th></th>\n",
       "      <th></th>\n",
       "      <th></th>\n",
       "      <th></th>\n",
       "    </tr>\n",
       "  </thead>\n",
       "  <tbody>\n",
       "    <tr>\n",
       "      <th>student</th>\n",
       "      <td>669</td>\n",
       "      <td>269</td>\n",
       "      <td>938</td>\n",
       "      <td>28.68%</td>\n",
       "    </tr>\n",
       "    <tr>\n",
       "      <th>retired</th>\n",
       "      <td>1748</td>\n",
       "      <td>516</td>\n",
       "      <td>2264</td>\n",
       "      <td>22.79%</td>\n",
       "    </tr>\n",
       "    <tr>\n",
       "      <th>unemployed</th>\n",
       "      <td>1101</td>\n",
       "      <td>202</td>\n",
       "      <td>1303</td>\n",
       "      <td>15.50%</td>\n",
       "    </tr>\n",
       "    <tr>\n",
       "      <th>management</th>\n",
       "      <td>8157</td>\n",
       "      <td>1301</td>\n",
       "      <td>9458</td>\n",
       "      <td>13.76%</td>\n",
       "    </tr>\n",
       "    <tr>\n",
       "      <th>admin.</th>\n",
       "      <td>4540</td>\n",
       "      <td>631</td>\n",
       "      <td>5171</td>\n",
       "      <td>12.20%</td>\n",
       "    </tr>\n",
       "    <tr>\n",
       "      <th>self-employed</th>\n",
       "      <td>1392</td>\n",
       "      <td>187</td>\n",
       "      <td>1579</td>\n",
       "      <td>11.84%</td>\n",
       "    </tr>\n",
       "    <tr>\n",
       "      <th>unknown</th>\n",
       "      <td>254</td>\n",
       "      <td>34</td>\n",
       "      <td>288</td>\n",
       "      <td>11.81%</td>\n",
       "    </tr>\n",
       "    <tr>\n",
       "      <th>technician</th>\n",
       "      <td>6757</td>\n",
       "      <td>840</td>\n",
       "      <td>7597</td>\n",
       "      <td>11.06%</td>\n",
       "    </tr>\n",
       "    <tr>\n",
       "      <th>services</th>\n",
       "      <td>3785</td>\n",
       "      <td>369</td>\n",
       "      <td>4154</td>\n",
       "      <td>8.88%</td>\n",
       "    </tr>\n",
       "    <tr>\n",
       "      <th>housemaid</th>\n",
       "      <td>1131</td>\n",
       "      <td>109</td>\n",
       "      <td>1240</td>\n",
       "      <td>8.79%</td>\n",
       "    </tr>\n",
       "    <tr>\n",
       "      <th>entrepreneur</th>\n",
       "      <td>1364</td>\n",
       "      <td>123</td>\n",
       "      <td>1487</td>\n",
       "      <td>8.27%</td>\n",
       "    </tr>\n",
       "    <tr>\n",
       "      <th>blue-collar</th>\n",
       "      <td>9024</td>\n",
       "      <td>708</td>\n",
       "      <td>9732</td>\n",
       "      <td>7.27%</td>\n",
       "    </tr>\n",
       "  </tbody>\n",
       "</table>\n",
       "</div>"
      ],
      "text/plain": [
       "y                no   yes  Total Success rate\n",
       "job                                          \n",
       "student         669   269    938       28.68%\n",
       "retired        1748   516   2264       22.79%\n",
       "unemployed     1101   202   1303       15.50%\n",
       "management     8157  1301   9458       13.76%\n",
       "admin.         4540   631   5171       12.20%\n",
       "self-employed  1392   187   1579       11.84%\n",
       "unknown         254    34    288       11.81%\n",
       "technician     6757   840   7597       11.06%\n",
       "services       3785   369   4154        8.88%\n",
       "housemaid      1131   109   1240        8.79%\n",
       "entrepreneur   1364   123   1487        8.27%\n",
       "blue-collar    9024   708   9732        7.27%"
      ]
     },
     "execution_count": 218,
     "metadata": {},
     "output_type": "execute_result"
    }
   ],
   "source": [
    "#job\n",
    "job = Success_rate_rank_count(df,\"job\",\"y\",\"Count\")\n",
    "job"
   ]
  },
  {
   "cell_type": "code",
   "execution_count": null,
   "id": "a685672f",
   "metadata": {},
   "outputs": [],
   "source": []
  },
  {
   "cell_type": "code",
   "execution_count": 219,
   "id": "08f83983",
   "metadata": {
    "scrolled": true
   },
   "outputs": [
    {
     "data": {
      "text/html": [
       "<div>\n",
       "<style scoped>\n",
       "    .dataframe tbody tr th:only-of-type {\n",
       "        vertical-align: middle;\n",
       "    }\n",
       "\n",
       "    .dataframe tbody tr th {\n",
       "        vertical-align: top;\n",
       "    }\n",
       "\n",
       "    .dataframe thead th {\n",
       "        text-align: right;\n",
       "    }\n",
       "</style>\n",
       "<table border=\"1\" class=\"dataframe\">\n",
       "  <thead>\n",
       "    <tr style=\"text-align: right;\">\n",
       "      <th>y</th>\n",
       "      <th>no</th>\n",
       "      <th>yes</th>\n",
       "      <th>Total</th>\n",
       "      <th>Success rate</th>\n",
       "    </tr>\n",
       "    <tr>\n",
       "      <th>housing</th>\n",
       "      <th></th>\n",
       "      <th></th>\n",
       "      <th></th>\n",
       "      <th></th>\n",
       "    </tr>\n",
       "  </thead>\n",
       "  <tbody>\n",
       "    <tr>\n",
       "      <th>no</th>\n",
       "      <td>2658</td>\n",
       "      <td>219</td>\n",
       "      <td>2877</td>\n",
       "      <td>7.61%</td>\n",
       "    </tr>\n",
       "    <tr>\n",
       "      <th>yes</th>\n",
       "      <td>4102</td>\n",
       "      <td>265</td>\n",
       "      <td>4367</td>\n",
       "      <td>6.07%</td>\n",
       "    </tr>\n",
       "  </tbody>\n",
       "</table>\n",
       "</div>"
      ],
      "text/plain": [
       "y          no  yes  Total Success rate\n",
       "housing                               \n",
       "no       2658  219   2877        7.61%\n",
       "yes      4102  265   4367        6.07%"
      ]
     },
     "execution_count": 219,
     "metadata": {},
     "output_type": "execute_result"
    }
   ],
   "source": [
    "#Chứng minh nợ là nguyên nhân khiến khách hàng không muốn gửi tiết kiệm (xem xét balance)\n",
    "loan_yes = df[df[\"loan\"] == \"yes\"]\n",
    "df[\"balance\"].median()\n",
    "df[\"balance\"].mean()\n",
    "loan_yes[\"balance\"].mean()\n",
    "loan_yes[\"balance\"].median()\n",
    "Success_rate_rank_count(loan_yes,\"housing\",\"y\",\"Count\")"
   ]
  },
  {
   "cell_type": "code",
   "execution_count": 220,
   "id": "b7f1ceee",
   "metadata": {
    "scrolled": false
   },
   "outputs": [
    {
     "data": {
      "text/plain": [
       "0.11698480458295547"
      ]
     },
     "execution_count": 220,
     "metadata": {},
     "output_type": "execute_result"
    }
   ],
   "source": [
    "Success_rate(df,\"y\")"
   ]
  },
  {
   "cell_type": "code",
   "execution_count": 221,
   "id": "601475bf",
   "metadata": {},
   "outputs": [
    {
     "data": {
      "text/plain": [
       "array([58, 44, 33, 47, 35, 28, 42, 43, 41, 29, 53, 57, 51, 45, 60, 56, 32,\n",
       "       25, 40, 39, 52, 46, 36, 49, 59, 37, 50, 54, 55, 48, 24, 38, 31, 30,\n",
       "       27, 34, 23, 26, 61, 22, 21, 20, 66, 62, 83, 75, 67, 70, 65, 68, 64,\n",
       "       69, 72, 71, 19, 76, 85, 63, 90, 82, 73, 74, 78, 80, 94, 79, 77, 86,\n",
       "       95, 81, 18, 89, 84, 87, 92, 93, 88], dtype=int64)"
      ]
     },
     "execution_count": 221,
     "metadata": {},
     "output_type": "execute_result"
    }
   ],
   "source": [
    "df[\"age\"].unique()"
   ]
  },
  {
   "cell_type": "code",
   "execution_count": 222,
   "id": "b2641667",
   "metadata": {},
   "outputs": [],
   "source": [
    "# biến 1 cột thành 1 bảng có các cột binary dummny: \n",
    "def dummy_table(df,col):\n",
    "    a = df.copy()\n",
    "    value = list(a[col].unique())\n",
    "    for name in value:\n",
    "        a[name] = a[col].apply(lambda x: 1 if x == name else 0)\n",
    "    return a\n",
    "a = dummy_table(df,\"age\")"
   ]
  },
  {
   "cell_type": "code",
   "execution_count": 223,
   "id": "42abfdc1",
   "metadata": {
    "scrolled": true
   },
   "outputs": [],
   "source": [
    "def success_compare(df,index,columns,values):\n",
    "    result = df.pivot_table(index = index, columns = columns , values = values , aggfunc = [list])\n",
    "    result.columns= result.columns.droplevel(0)\n",
    "    for name in list(result.columns):\n",
    "        result[name] = result[name].fillna(\"no data\")\n",
    "        result[name] = result[name].apply(lambda x: None  if x == \"no data\" else (list(x).count(\"yes\")/len(x)))\n",
    "    return result"
   ]
  },
  {
   "cell_type": "code",
   "execution_count": 224,
   "id": "c4f7f478",
   "metadata": {
    "scrolled": true
   },
   "outputs": [
    {
     "data": {
      "text/html": [
       "<div>\n",
       "<style scoped>\n",
       "    .dataframe tbody tr th:only-of-type {\n",
       "        vertical-align: middle;\n",
       "    }\n",
       "\n",
       "    .dataframe tbody tr th {\n",
       "        vertical-align: top;\n",
       "    }\n",
       "\n",
       "    .dataframe thead th {\n",
       "        text-align: right;\n",
       "    }\n",
       "</style>\n",
       "<table border=\"1\" class=\"dataframe\">\n",
       "  <thead>\n",
       "    <tr style=\"text-align: right;\">\n",
       "      <th>education</th>\n",
       "      <th>primary</th>\n",
       "      <th>secondary</th>\n",
       "      <th>tertiary</th>\n",
       "      <th>unknown</th>\n",
       "    </tr>\n",
       "    <tr>\n",
       "      <th>job</th>\n",
       "      <th></th>\n",
       "      <th></th>\n",
       "      <th></th>\n",
       "      <th></th>\n",
       "    </tr>\n",
       "  </thead>\n",
       "  <tbody>\n",
       "    <tr>\n",
       "      <th>admin.</th>\n",
       "      <td>-0.026316</td>\n",
       "      <td>0.051078</td>\n",
       "      <td>0.035937</td>\n",
       "      <td>0.109091</td>\n",
       "    </tr>\n",
       "    <tr>\n",
       "      <th>blue-collar</th>\n",
       "      <td>0.013648</td>\n",
       "      <td>0.011073</td>\n",
       "      <td>0.181818</td>\n",
       "      <td>-0.057367</td>\n",
       "    </tr>\n",
       "    <tr>\n",
       "      <th>entrepreneur</th>\n",
       "      <td>0.051923</td>\n",
       "      <td>0.032276</td>\n",
       "      <td>0.058830</td>\n",
       "      <td>0.031694</td>\n",
       "    </tr>\n",
       "    <tr>\n",
       "      <th>housemaid</th>\n",
       "      <td>0.047818</td>\n",
       "      <td>0.055831</td>\n",
       "      <td>0.139241</td>\n",
       "      <td>0.093023</td>\n",
       "    </tr>\n",
       "    <tr>\n",
       "      <th>management</th>\n",
       "      <td>0.092437</td>\n",
       "      <td>0.023291</td>\n",
       "      <td>0.076401</td>\n",
       "      <td>0.154266</td>\n",
       "    </tr>\n",
       "    <tr>\n",
       "      <th>retired</th>\n",
       "      <td>0.207260</td>\n",
       "      <td>0.170542</td>\n",
       "      <td>0.150353</td>\n",
       "      <td>0.272727</td>\n",
       "    </tr>\n",
       "    <tr>\n",
       "      <th>self-employed</th>\n",
       "      <td>-0.078236</td>\n",
       "      <td>-0.025323</td>\n",
       "      <td>0.095916</td>\n",
       "      <td>0.131579</td>\n",
       "    </tr>\n",
       "    <tr>\n",
       "      <th>services</th>\n",
       "      <td>0.011704</td>\n",
       "      <td>0.039841</td>\n",
       "      <td>0.072794</td>\n",
       "      <td>0.001866</td>\n",
       "    </tr>\n",
       "    <tr>\n",
       "      <th>student</th>\n",
       "      <td>NaN</td>\n",
       "      <td>0.300797</td>\n",
       "      <td>0.269406</td>\n",
       "      <td>0.267081</td>\n",
       "    </tr>\n",
       "    <tr>\n",
       "      <th>technician</th>\n",
       "      <td>0.052448</td>\n",
       "      <td>0.041082</td>\n",
       "      <td>0.099880</td>\n",
       "      <td>0.105505</td>\n",
       "    </tr>\n",
       "    <tr>\n",
       "      <th>unemployed</th>\n",
       "      <td>0.015686</td>\n",
       "      <td>0.088759</td>\n",
       "      <td>0.207407</td>\n",
       "      <td>NaN</td>\n",
       "    </tr>\n",
       "    <tr>\n",
       "      <th>unknown</th>\n",
       "      <td>-0.979592</td>\n",
       "      <td>0.130435</td>\n",
       "      <td>NaN</td>\n",
       "      <td>NaN</td>\n",
       "    </tr>\n",
       "  </tbody>\n",
       "</table>\n",
       "</div>"
      ],
      "text/plain": [
       "education       primary  secondary  tertiary   unknown\n",
       "job                                                   \n",
       "admin.        -0.026316   0.051078  0.035937  0.109091\n",
       "blue-collar    0.013648   0.011073  0.181818 -0.057367\n",
       "entrepreneur   0.051923   0.032276  0.058830  0.031694\n",
       "housemaid      0.047818   0.055831  0.139241  0.093023\n",
       "management     0.092437   0.023291  0.076401  0.154266\n",
       "retired        0.207260   0.170542  0.150353  0.272727\n",
       "self-employed -0.078236  -0.025323  0.095916  0.131579\n",
       "services       0.011704   0.039841  0.072794  0.001866\n",
       "student             NaN   0.300797  0.269406  0.267081\n",
       "technician     0.052448   0.041082  0.099880  0.105505\n",
       "unemployed     0.015686   0.088759  0.207407       NaN\n",
       "unknown       -0.979592   0.130435       NaN       NaN"
      ]
     },
     "execution_count": 224,
     "metadata": {},
     "output_type": "execute_result"
    }
   ],
   "source": [
    "b = df[df[\"loan\"] == \"no\"]\n",
    "b = success_compare(b,\"job\",\"education\",\"y\")\n",
    "b = b.fillna(0)\n",
    "\n",
    "a = df[df[\"loan\"] == \"yes\"]\n",
    "\n",
    "a = success_compare(a,\"job\",\"education\",\"y\")\n",
    "\n",
    "\n",
    "b-a"
   ]
  },
  {
   "cell_type": "code",
   "execution_count": 225,
   "id": "81cff99c",
   "metadata": {
    "scrolled": true
   },
   "outputs": [
    {
     "data": {
      "text/html": [
       "<div>\n",
       "<style scoped>\n",
       "    .dataframe tbody tr th:only-of-type {\n",
       "        vertical-align: middle;\n",
       "    }\n",
       "\n",
       "    .dataframe tbody tr th {\n",
       "        vertical-align: top;\n",
       "    }\n",
       "\n",
       "    .dataframe thead th {\n",
       "        text-align: right;\n",
       "    }\n",
       "</style>\n",
       "<table border=\"1\" class=\"dataframe\">\n",
       "  <thead>\n",
       "    <tr style=\"text-align: right;\">\n",
       "      <th>education</th>\n",
       "      <th>primary</th>\n",
       "      <th>secondary</th>\n",
       "      <th>tertiary</th>\n",
       "      <th>unknown</th>\n",
       "    </tr>\n",
       "    <tr>\n",
       "      <th>job</th>\n",
       "      <th></th>\n",
       "      <th></th>\n",
       "      <th></th>\n",
       "      <th></th>\n",
       "    </tr>\n",
       "  </thead>\n",
       "  <tbody>\n",
       "    <tr>\n",
       "      <th>admin.</th>\n",
       "      <td>NaN</td>\n",
       "      <td>0.029851</td>\n",
       "      <td>0.500000</td>\n",
       "      <td>0.000000</td>\n",
       "    </tr>\n",
       "    <tr>\n",
       "      <th>blue-collar</th>\n",
       "      <td>0.028571</td>\n",
       "      <td>0.094017</td>\n",
       "      <td>0.000000</td>\n",
       "      <td>0.181818</td>\n",
       "    </tr>\n",
       "    <tr>\n",
       "      <th>entrepreneur</th>\n",
       "      <td>0.000000</td>\n",
       "      <td>0.000000</td>\n",
       "      <td>0.192308</td>\n",
       "      <td>0.333333</td>\n",
       "    </tr>\n",
       "    <tr>\n",
       "      <th>housemaid</th>\n",
       "      <td>0.100000</td>\n",
       "      <td>0.000000</td>\n",
       "      <td>0.000000</td>\n",
       "      <td>0.000000</td>\n",
       "    </tr>\n",
       "    <tr>\n",
       "      <th>management</th>\n",
       "      <td>0.111111</td>\n",
       "      <td>0.034483</td>\n",
       "      <td>0.049180</td>\n",
       "      <td>0.000000</td>\n",
       "    </tr>\n",
       "    <tr>\n",
       "      <th>retired</th>\n",
       "      <td>0.000000</td>\n",
       "      <td>0.000000</td>\n",
       "      <td>1.000000</td>\n",
       "      <td>0.000000</td>\n",
       "    </tr>\n",
       "    <tr>\n",
       "      <th>self-employed</th>\n",
       "      <td>0.000000</td>\n",
       "      <td>0.105263</td>\n",
       "      <td>0.000000</td>\n",
       "      <td>NaN</td>\n",
       "    </tr>\n",
       "    <tr>\n",
       "      <th>services</th>\n",
       "      <td>0.000000</td>\n",
       "      <td>0.049180</td>\n",
       "      <td>0.000000</td>\n",
       "      <td>0.333333</td>\n",
       "    </tr>\n",
       "    <tr>\n",
       "      <th>student</th>\n",
       "      <td>0.000000</td>\n",
       "      <td>NaN</td>\n",
       "      <td>0.000000</td>\n",
       "      <td>NaN</td>\n",
       "    </tr>\n",
       "    <tr>\n",
       "      <th>technician</th>\n",
       "      <td>0.000000</td>\n",
       "      <td>0.087379</td>\n",
       "      <td>0.045455</td>\n",
       "      <td>0.000000</td>\n",
       "    </tr>\n",
       "    <tr>\n",
       "      <th>unemployed</th>\n",
       "      <td>0.181818</td>\n",
       "      <td>0.000000</td>\n",
       "      <td>0.000000</td>\n",
       "      <td>NaN</td>\n",
       "    </tr>\n",
       "    <tr>\n",
       "      <th>unknown</th>\n",
       "      <td>NaN</td>\n",
       "      <td>0.000000</td>\n",
       "      <td>NaN</td>\n",
       "      <td>0.000000</td>\n",
       "    </tr>\n",
       "  </tbody>\n",
       "</table>\n",
       "</div>"
      ],
      "text/plain": [
       "education       primary  secondary  tertiary   unknown\n",
       "job                                                   \n",
       "admin.              NaN   0.029851  0.500000  0.000000\n",
       "blue-collar    0.028571   0.094017  0.000000  0.181818\n",
       "entrepreneur   0.000000   0.000000  0.192308  0.333333\n",
       "housemaid      0.100000   0.000000  0.000000  0.000000\n",
       "management     0.111111   0.034483  0.049180  0.000000\n",
       "retired        0.000000   0.000000  1.000000  0.000000\n",
       "self-employed  0.000000   0.105263  0.000000       NaN\n",
       "services       0.000000   0.049180  0.000000  0.333333\n",
       "student        0.000000        NaN  0.000000       NaN\n",
       "technician     0.000000   0.087379  0.045455  0.000000\n",
       "unemployed     0.181818   0.000000  0.000000       NaN\n",
       "unknown             NaN   0.000000       NaN  0.000000"
      ]
     },
     "execution_count": 225,
     "metadata": {},
     "output_type": "execute_result"
    }
   ],
   "source": [
    "b = df[df[\"default\"] == \"no\"]\n",
    "b = success_compare(b,\"job\",\"education\",\"y\")\n",
    "b = b.fillna(0)\n",
    "\n",
    "a = df[df[\"default\"] == \"yes\"]\n",
    "\n",
    "a = success_compare(a,\"job\",\"education\",\"y\")\n",
    "a"
   ]
  },
  {
   "cell_type": "code",
   "execution_count": 226,
   "id": "94711cd8",
   "metadata": {
    "scrolled": true
   },
   "outputs": [
    {
     "data": {
      "text/html": [
       "<div>\n",
       "<style scoped>\n",
       "    .dataframe tbody tr th:only-of-type {\n",
       "        vertical-align: middle;\n",
       "    }\n",
       "\n",
       "    .dataframe tbody tr th {\n",
       "        vertical-align: top;\n",
       "    }\n",
       "\n",
       "    .dataframe thead th {\n",
       "        text-align: right;\n",
       "    }\n",
       "</style>\n",
       "<table border=\"1\" class=\"dataframe\">\n",
       "  <thead>\n",
       "    <tr style=\"text-align: right;\">\n",
       "      <th>education</th>\n",
       "      <th>primary</th>\n",
       "      <th>secondary</th>\n",
       "      <th>tertiary</th>\n",
       "      <th>unknown</th>\n",
       "    </tr>\n",
       "    <tr>\n",
       "      <th>job</th>\n",
       "      <th></th>\n",
       "      <th></th>\n",
       "      <th></th>\n",
       "      <th></th>\n",
       "    </tr>\n",
       "  </thead>\n",
       "  <tbody>\n",
       "    <tr>\n",
       "      <th>admin.</th>\n",
       "      <td>-0.055606</td>\n",
       "      <td>0.083238</td>\n",
       "      <td>0.100098</td>\n",
       "      <td>0.082716</td>\n",
       "    </tr>\n",
       "    <tr>\n",
       "      <th>blue-collar</th>\n",
       "      <td>0.022514</td>\n",
       "      <td>0.049220</td>\n",
       "      <td>0.222606</td>\n",
       "      <td>0.018522</td>\n",
       "    </tr>\n",
       "    <tr>\n",
       "      <th>entrepreneur</th>\n",
       "      <td>-0.015091</td>\n",
       "      <td>0.085927</td>\n",
       "      <td>0.056330</td>\n",
       "      <td>-0.055673</td>\n",
       "    </tr>\n",
       "    <tr>\n",
       "      <th>housemaid</th>\n",
       "      <td>0.044531</td>\n",
       "      <td>0.012478</td>\n",
       "      <td>0.129772</td>\n",
       "      <td>-0.089744</td>\n",
       "    </tr>\n",
       "    <tr>\n",
       "      <th>management</th>\n",
       "      <td>0.049107</td>\n",
       "      <td>0.036476</td>\n",
       "      <td>0.096956</td>\n",
       "      <td>0.081196</td>\n",
       "    </tr>\n",
       "    <tr>\n",
       "      <th>retired</th>\n",
       "      <td>0.208344</td>\n",
       "      <td>0.148532</td>\n",
       "      <td>0.045255</td>\n",
       "      <td>0.285714</td>\n",
       "    </tr>\n",
       "    <tr>\n",
       "      <th>self-employed</th>\n",
       "      <td>-0.040476</td>\n",
       "      <td>0.012030</td>\n",
       "      <td>0.088873</td>\n",
       "      <td>0.100000</td>\n",
       "    </tr>\n",
       "    <tr>\n",
       "      <th>services</th>\n",
       "      <td>-0.062528</td>\n",
       "      <td>0.065691</td>\n",
       "      <td>0.141313</td>\n",
       "      <td>0.191071</td>\n",
       "    </tr>\n",
       "    <tr>\n",
       "      <th>student</th>\n",
       "      <td>0.035088</td>\n",
       "      <td>0.313274</td>\n",
       "      <td>0.268098</td>\n",
       "      <td>0.210451</td>\n",
       "    </tr>\n",
       "    <tr>\n",
       "      <th>technician</th>\n",
       "      <td>0.069313</td>\n",
       "      <td>0.048947</td>\n",
       "      <td>0.083866</td>\n",
       "      <td>0.125764</td>\n",
       "    </tr>\n",
       "    <tr>\n",
       "      <th>unemployed</th>\n",
       "      <td>0.070619</td>\n",
       "      <td>0.138328</td>\n",
       "      <td>0.208002</td>\n",
       "      <td>0.093137</td>\n",
       "    </tr>\n",
       "    <tr>\n",
       "      <th>unknown</th>\n",
       "      <td>-0.262987</td>\n",
       "      <td>0.142857</td>\n",
       "      <td>0.111111</td>\n",
       "      <td>0.151261</td>\n",
       "    </tr>\n",
       "  </tbody>\n",
       "</table>\n",
       "</div>"
      ],
      "text/plain": [
       "education       primary  secondary  tertiary   unknown\n",
       "job                                                   \n",
       "admin.        -0.055606   0.083238  0.100098  0.082716\n",
       "blue-collar    0.022514   0.049220  0.222606  0.018522\n",
       "entrepreneur  -0.015091   0.085927  0.056330 -0.055673\n",
       "housemaid      0.044531   0.012478  0.129772 -0.089744\n",
       "management     0.049107   0.036476  0.096956  0.081196\n",
       "retired        0.208344   0.148532  0.045255  0.285714\n",
       "self-employed -0.040476   0.012030  0.088873  0.100000\n",
       "services      -0.062528   0.065691  0.141313  0.191071\n",
       "student        0.035088   0.313274  0.268098  0.210451\n",
       "technician     0.069313   0.048947  0.083866  0.125764\n",
       "unemployed     0.070619   0.138328  0.208002  0.093137\n",
       "unknown       -0.262987   0.142857  0.111111  0.151261"
      ]
     },
     "execution_count": 226,
     "metadata": {},
     "output_type": "execute_result"
    }
   ],
   "source": [
    "b = df[df[\"housing\"] == \"no\"]\n",
    "b = success_compare(b,\"job\",\"education\",\"y\")\n",
    "b = b.fillna(0)\n",
    "\n",
    "a = df[df[\"housing\"] == \"yes\"]\n",
    "\n",
    "a = success_compare(a,\"job\",\"education\",\"y\")\n",
    "\n",
    "\n",
    "b-a"
   ]
  },
  {
   "cell_type": "code",
   "execution_count": 227,
   "id": "86a03e6e",
   "metadata": {
    "scrolled": false
   },
   "outputs": [
    {
     "data": {
      "text/plain": [
       "<AxesSubplot:xlabel='age'>"
      ]
     },
     "execution_count": 227,
     "metadata": {},
     "output_type": "execute_result"
    },
    {
     "data": {
      "text/plain": [
       "<Figure size 432x288 with 0 Axes>"
      ]
     },
     "metadata": {},
     "output_type": "display_data"
    },
    {
     "data": {
      "image/png": "[encoded data removed]",
      "text/plain": [
       "<Figure size 1080x360 with 1 Axes>"
      ]
     },
     "metadata": {
      "needs_background": "light"
     },
     "output_type": "display_data"
    }
   ],
   "source": [
    "age = age.reset_index()#drop = True\n",
    "age[\"Success rate\"] = age[\"Success rate\"].apply(lambda x: float((x.strip(\"%\")))/100)\n",
    "age = age.sort_values(\"age\",ascending = True)\n",
    "fig = plt.figure()\n",
    "fig, ax = plt.subplots(figsize=[15, 5])\n",
    "age.plot.bar(x = \"age\", y = \"Success rate\", ax = ax)"
   ]
  },
  {
   "cell_type": "code",
   "execution_count": null,
   "id": "256e37c8",
   "metadata": {},
   "outputs": [],
   "source": []
  },
  {
   "cell_type": "code",
   "execution_count": 229,
   "id": "eea57a7d",
   "metadata": {
    "scrolled": false
   },
   "outputs": [
    {
     "name": "stdout",
     "output_type": "stream",
     "text": [
      "1362.2720576850766\n",
      "448.0\n"
     ]
    },
    {
     "data": {
      "text/plain": [
       "1428.0"
      ]
     },
     "execution_count": 229,
     "metadata": {},
     "output_type": "execute_result"
    }
   ],
   "source": [
    "print(df[\"balance\"].mean())\n",
    "print(df[\"balance\"].median())\n",
    "df[\"balance\"].quantile(0.9)\n",
    "#.percentile(scores, 70, interpolation='lower'))\n",
    "df[\"balance\"].quantile(0.75)"
   ]
  },
  {
   "cell_type": "code",
   "execution_count": 230,
   "id": "a7bedd94",
   "metadata": {},
   "outputs": [
    {
     "data": {
      "text/plain": [
       "448.0"
      ]
     },
     "execution_count": 230,
     "metadata": {},
     "output_type": "execute_result"
    }
   ],
   "source": [
    "df[\"balance\"].quantile(0.5)"
   ]
  },
  {
   "cell_type": "code",
   "execution_count": 231,
   "id": "57adf85c",
   "metadata": {},
   "outputs": [
    {
     "data": {
      "text/html": [
       "<div>\n",
       "<style scoped>\n",
       "    .dataframe tbody tr th:only-of-type {\n",
       "        vertical-align: middle;\n",
       "    }\n",
       "\n",
       "    .dataframe tbody tr th {\n",
       "        vertical-align: top;\n",
       "    }\n",
       "\n",
       "    .dataframe thead th {\n",
       "        text-align: right;\n",
       "    }\n",
       "</style>\n",
       "<table border=\"1\" class=\"dataframe\">\n",
       "  <thead>\n",
       "    <tr style=\"text-align: right;\">\n",
       "      <th>y</th>\n",
       "      <th>no</th>\n",
       "      <th>yes</th>\n",
       "      <th>Total</th>\n",
       "      <th>Success rate</th>\n",
       "    </tr>\n",
       "    <tr>\n",
       "      <th>balance</th>\n",
       "      <th></th>\n",
       "      <th></th>\n",
       "      <th></th>\n",
       "      <th></th>\n",
       "    </tr>\n",
       "  </thead>\n",
       "  <tbody>\n",
       "    <tr>\n",
       "      <th>4661</th>\n",
       "      <td>0.0</td>\n",
       "      <td>1.0</td>\n",
       "      <td>1.0</td>\n",
       "      <td>100.00%</td>\n",
       "    </tr>\n",
       "    <tr>\n",
       "      <th>4718</th>\n",
       "      <td>0.0</td>\n",
       "      <td>2.0</td>\n",
       "      <td>2.0</td>\n",
       "      <td>100.00%</td>\n",
       "    </tr>\n",
       "    <tr>\n",
       "      <th>9314</th>\n",
       "      <td>0.0</td>\n",
       "      <td>1.0</td>\n",
       "      <td>1.0</td>\n",
       "      <td>100.00%</td>\n",
       "    </tr>\n",
       "    <tr>\n",
       "      <th>6089</th>\n",
       "      <td>0.0</td>\n",
       "      <td>1.0</td>\n",
       "      <td>1.0</td>\n",
       "      <td>100.00%</td>\n",
       "    </tr>\n",
       "    <tr>\n",
       "      <th>14481</th>\n",
       "      <td>0.0</td>\n",
       "      <td>1.0</td>\n",
       "      <td>1.0</td>\n",
       "      <td>100.00%</td>\n",
       "    </tr>\n",
       "    <tr>\n",
       "      <th>...</th>\n",
       "      <td>...</td>\n",
       "      <td>...</td>\n",
       "      <td>...</td>\n",
       "      <td>...</td>\n",
       "    </tr>\n",
       "    <tr>\n",
       "      <th>2443</th>\n",
       "      <td>3.0</td>\n",
       "      <td>0.0</td>\n",
       "      <td>3.0</td>\n",
       "      <td>0.00%</td>\n",
       "    </tr>\n",
       "    <tr>\n",
       "      <th>2441</th>\n",
       "      <td>5.0</td>\n",
       "      <td>0.0</td>\n",
       "      <td>5.0</td>\n",
       "      <td>0.00%</td>\n",
       "    </tr>\n",
       "    <tr>\n",
       "      <th>2440</th>\n",
       "      <td>4.0</td>\n",
       "      <td>0.0</td>\n",
       "      <td>4.0</td>\n",
       "      <td>0.00%</td>\n",
       "    </tr>\n",
       "    <tr>\n",
       "      <th>2439</th>\n",
       "      <td>5.0</td>\n",
       "      <td>0.0</td>\n",
       "      <td>5.0</td>\n",
       "      <td>0.00%</td>\n",
       "    </tr>\n",
       "    <tr>\n",
       "      <th>102127</th>\n",
       "      <td>1.0</td>\n",
       "      <td>0.0</td>\n",
       "      <td>1.0</td>\n",
       "      <td>0.00%</td>\n",
       "    </tr>\n",
       "  </tbody>\n",
       "</table>\n",
       "<p>7168 rows × 4 columns</p>\n",
       "</div>"
      ],
      "text/plain": [
       "y         no  yes  Total Success rate\n",
       "balance                              \n",
       "4661     0.0  1.0    1.0      100.00%\n",
       "4718     0.0  2.0    2.0      100.00%\n",
       "9314     0.0  1.0    1.0      100.00%\n",
       "6089     0.0  1.0    1.0      100.00%\n",
       "14481    0.0  1.0    1.0      100.00%\n",
       "...      ...  ...    ...          ...\n",
       "2443     3.0  0.0    3.0        0.00%\n",
       "2441     5.0  0.0    5.0        0.00%\n",
       "2440     4.0  0.0    4.0        0.00%\n",
       "2439     5.0  0.0    5.0        0.00%\n",
       "102127   1.0  0.0    1.0        0.00%\n",
       "\n",
       "[7168 rows x 4 columns]"
      ]
     },
     "execution_count": 231,
     "metadata": {},
     "output_type": "execute_result"
    }
   ],
   "source": [
    "balance = Success_rate_rank_count(df,\"balance\",\"y\",\"Count\")\n",
    "balance"
   ]
  },
  {
   "cell_type": "code",
   "execution_count": 232,
   "id": "70f60168",
   "metadata": {},
   "outputs": [
    {
     "data": {
      "text/plain": [
       "'-100 _ 0'"
      ]
     },
     "execution_count": 232,
     "metadata": {},
     "output_type": "execute_result"
    }
   ],
   "source": [
    "a = (-1//100)\n",
    "result = \"{} _ {}\".format(a*100, (a+1)*100)\n",
    "result"
   ]
  },
  {
   "cell_type": "code",
   "execution_count": 233,
   "id": "87f4baff",
   "metadata": {},
   "outputs": [],
   "source": [
    "def balance_clarify(x):\n",
    "    poor_stand = 1430\n",
    "    result = \"\"\n",
    "    if x <= 0: \n",
    "        result = \"Negative\"\n",
    "    elif x < poor_stand :\n",
    "        result = \"Under Basic\"\n",
    "    elif x < 7600:\n",
    "        result = \"Under Average\"\n",
    "    elif x <= 15400:\n",
    "        result = \"Average\"\n",
    "    else:\n",
    "        result = \"Above-Average\"\n",
    "    return result"
   ]
  },
  {
   "cell_type": "code",
   "execution_count": 234,
   "id": "978fa854",
   "metadata": {
    "scrolled": true
   },
   "outputs": [
    {
     "data": {
      "text/plain": [
       "Under Basic      26640\n",
       "Under Average     9875\n",
       "Negative          7280\n",
       "Average           1083\n",
       "Above-Average      333\n",
       "Name: balance_2, dtype: int64"
      ]
     },
     "execution_count": 234,
     "metadata": {},
     "output_type": "execute_result"
    }
   ],
   "source": [
    "df[\"balance_2\"] = df[\"balance\"].apply(balance_clarify)\n",
    "df[\"balance_2\"].value_counts()"
   ]
  },
  {
   "cell_type": "code",
   "execution_count": 235,
   "id": "2acf8b41",
   "metadata": {},
   "outputs": [
    {
     "data": {
      "text/html": [
       "<div>\n",
       "<style scoped>\n",
       "    .dataframe tbody tr th:only-of-type {\n",
       "        vertical-align: middle;\n",
       "    }\n",
       "\n",
       "    .dataframe tbody tr th {\n",
       "        vertical-align: top;\n",
       "    }\n",
       "\n",
       "    .dataframe thead th {\n",
       "        text-align: right;\n",
       "    }\n",
       "</style>\n",
       "<table border=\"1\" class=\"dataframe\">\n",
       "  <thead>\n",
       "    <tr style=\"text-align: right;\">\n",
       "      <th>y</th>\n",
       "      <th>no</th>\n",
       "      <th>yes</th>\n",
       "      <th>Total</th>\n",
       "      <th>Success rate</th>\n",
       "    </tr>\n",
       "    <tr>\n",
       "      <th>balance_2</th>\n",
       "      <th></th>\n",
       "      <th></th>\n",
       "      <th></th>\n",
       "      <th></th>\n",
       "    </tr>\n",
       "  </thead>\n",
       "  <tbody>\n",
       "    <tr>\n",
       "      <th>Average</th>\n",
       "      <td>906</td>\n",
       "      <td>177</td>\n",
       "      <td>1083</td>\n",
       "      <td>16.34%</td>\n",
       "    </tr>\n",
       "    <tr>\n",
       "      <th>Under Average</th>\n",
       "      <td>8272</td>\n",
       "      <td>1603</td>\n",
       "      <td>9875</td>\n",
       "      <td>16.23%</td>\n",
       "    </tr>\n",
       "    <tr>\n",
       "      <th>Above-Average</th>\n",
       "      <td>291</td>\n",
       "      <td>42</td>\n",
       "      <td>333</td>\n",
       "      <td>12.61%</td>\n",
       "    </tr>\n",
       "    <tr>\n",
       "      <th>Under Basic</th>\n",
       "      <td>23675</td>\n",
       "      <td>2965</td>\n",
       "      <td>26640</td>\n",
       "      <td>11.13%</td>\n",
       "    </tr>\n",
       "    <tr>\n",
       "      <th>Negative</th>\n",
       "      <td>6778</td>\n",
       "      <td>502</td>\n",
       "      <td>7280</td>\n",
       "      <td>6.90%</td>\n",
       "    </tr>\n",
       "  </tbody>\n",
       "</table>\n",
       "</div>"
      ],
      "text/plain": [
       "y                 no   yes  Total Success rate\n",
       "balance_2                                     \n",
       "Average          906   177   1083       16.34%\n",
       "Under Average   8272  1603   9875       16.23%\n",
       "Above-Average    291    42    333       12.61%\n",
       "Under Basic    23675  2965  26640       11.13%\n",
       "Negative        6778   502   7280        6.90%"
      ]
     },
     "execution_count": 235,
     "metadata": {},
     "output_type": "execute_result"
    }
   ],
   "source": [
    "balance_2 = Success_rate_rank_count(df,\"balance_2\",\"y\",\"Count\")\n",
    "balance_2"
   ]
  },
  {
   "cell_type": "code",
   "execution_count": 236,
   "id": "7c8323bd",
   "metadata": {},
   "outputs": [
    {
     "data": {
      "text/plain": [
       "\"fig = ff.create_facet_grid(\\n    df,\\n    y='balance',\\n    facet_row='marital',\\n    facet_col='deposit',\\n    trace_type='box',\\n)\\n\\niplot(fig, filename='facet - box traces')\""
      ]
     },
     "execution_count": 236,
     "metadata": {},
     "output_type": "execute_result"
    }
   ],
   "source": [
    "# chia mức độ thu nhập\n",
    "# sơ đồ scat : balance , age\n",
    "# có thể thêm : job,marital,housing\n",
    "# iplot sơ đồ so sánh\n",
    "'''fig = ff.create_facet_grid(\n",
    "    df,\n",
    "    y='balance',\n",
    "    facet_row='marital',\n",
    "    facet_col='deposit',\n",
    "    trace_type='box',\n",
    ")\n",
    "\n",
    "iplot(fig, filename='facet - box traces')'''\n",
    "\n"
   ]
  },
  {
   "cell_type": "code",
   "execution_count": 237,
   "id": "82de5a5f",
   "metadata": {},
   "outputs": [],
   "source": [
    "# https://www.statista.com/statistics/1220367/average-net-income-per-person-spain/\n",
    "#https://www.ine.es/jaxiT3/Tabla.htm?t=10942&L=1"
   ]
  },
  {
   "cell_type": "code",
   "execution_count": 238,
   "id": "60021157",
   "metadata": {},
   "outputs": [],
   "source": [
    "# https://www.macrotrends.net/countries/ESP/spain/poverty-rate\n",
    "# chuẩn nghèo của spain là 5.5$ => 3.9eur => 1450eur 1.405\n",
    "# Thu nhập mỗi người\n",
    "#https://www.ine.es/jaxiT3/Tabla.htm?t=10942&L=1\n",
    "# ti lệ exchange : https://www.statista.com/statistics/412794/euro-to-u-s-dollar-annual-average-exchange-rate/#:~:text=In%202008%2C%20the%20euro%20to,could%20buy%201.12%20U.S.%20dollars.\n",
    "# 1.47 - 1.34"
   ]
  },
  {
   "cell_type": "code",
   "execution_count": 250,
   "id": "e915bacf",
   "metadata": {
    "scrolled": false
   },
   "outputs": [
    {
     "data": {
      "text/plain": [
       "<AxesSubplot:xlabel='education', ylabel='balance_2'>"
      ]
     },
     "execution_count": 250,
     "metadata": {},
     "output_type": "execute_result"
    },
    {
     "data": {
      "image/png": "[encoded data removed]",
      "text/plain": [
       "<Figure size 432x288 with 2 Axes>"
      ]
     },
     "metadata": {
      "needs_background": "light"
     },
     "output_type": "display_data"
    }
   ],
   "source": [
    "a = success_compare(df,\"balance_2\",\"education\",\"y\")\n",
    "a[\"standard\"] = 0.117\n",
    "sns.heatmap(a)"
   ]
  },
  {
   "cell_type": "code",
   "execution_count": 254,
   "id": "5e2682a1",
   "metadata": {},
   "outputs": [],
   "source": []
  },
  {
   "cell_type": "code",
   "execution_count": 258,
   "id": "569ef22c",
   "metadata": {},
   "outputs": [
    {
     "data": {
      "text/html": [
       "<div>\n",
       "<style scoped>\n",
       "    .dataframe tbody tr th:only-of-type {\n",
       "        vertical-align: middle;\n",
       "    }\n",
       "\n",
       "    .dataframe tbody tr th {\n",
       "        vertical-align: top;\n",
       "    }\n",
       "\n",
       "    .dataframe thead th {\n",
       "        text-align: right;\n",
       "    }\n",
       "</style>\n",
       "<table border=\"1\" class=\"dataframe\">\n",
       "  <thead>\n",
       "    <tr style=\"text-align: right;\">\n",
       "      <th>balance_2</th>\n",
       "      <th>Above-Average</th>\n",
       "      <th>Average</th>\n",
       "      <th>Negative</th>\n",
       "      <th>Under Average</th>\n",
       "      <th>Under Basic</th>\n",
       "    </tr>\n",
       "    <tr>\n",
       "      <th>job</th>\n",
       "      <th></th>\n",
       "      <th></th>\n",
       "      <th></th>\n",
       "      <th></th>\n",
       "      <th></th>\n",
       "    </tr>\n",
       "  </thead>\n",
       "  <tbody>\n",
       "    <tr>\n",
       "      <th>admin.</th>\n",
       "      <td>0.083333</td>\n",
       "      <td>0.222222</td>\n",
       "      <td>0.076834</td>\n",
       "      <td>0.163984</td>\n",
       "      <td>0.118602</td>\n",
       "    </tr>\n",
       "    <tr>\n",
       "      <th>blue-collar</th>\n",
       "      <td>0.031250</td>\n",
       "      <td>0.102410</td>\n",
       "      <td>0.052144</td>\n",
       "      <td>0.092778</td>\n",
       "      <td>0.071731</td>\n",
       "    </tr>\n",
       "    <tr>\n",
       "      <th>entrepreneur</th>\n",
       "      <td>0.086957</td>\n",
       "      <td>0.085714</td>\n",
       "      <td>0.093633</td>\n",
       "      <td>0.123746</td>\n",
       "      <td>0.064890</td>\n",
       "    </tr>\n",
       "    <tr>\n",
       "      <th>housemaid</th>\n",
       "      <td>0.100000</td>\n",
       "      <td>0.074074</td>\n",
       "      <td>0.052356</td>\n",
       "      <td>0.136882</td>\n",
       "      <td>0.080107</td>\n",
       "    </tr>\n",
       "    <tr>\n",
       "      <th>management</th>\n",
       "      <td>0.116279</td>\n",
       "      <td>0.177778</td>\n",
       "      <td>0.064769</td>\n",
       "      <td>0.185262</td>\n",
       "      <td>0.133282</td>\n",
       "    </tr>\n",
       "    <tr>\n",
       "      <th>retired</th>\n",
       "      <td>0.272727</td>\n",
       "      <td>0.368421</td>\n",
       "      <td>0.118467</td>\n",
       "      <td>0.305322</td>\n",
       "      <td>0.196707</td>\n",
       "    </tr>\n",
       "    <tr>\n",
       "      <th>self-employed</th>\n",
       "      <td>0.176471</td>\n",
       "      <td>0.114754</td>\n",
       "      <td>0.080189</td>\n",
       "      <td>0.161473</td>\n",
       "      <td>0.110043</td>\n",
       "    </tr>\n",
       "    <tr>\n",
       "      <th>services</th>\n",
       "      <td>0.000000</td>\n",
       "      <td>0.031746</td>\n",
       "      <td>0.070088</td>\n",
       "      <td>0.124832</td>\n",
       "      <td>0.085894</td>\n",
       "    </tr>\n",
       "    <tr>\n",
       "      <th>student</th>\n",
       "      <td>0.500000</td>\n",
       "      <td>0.227273</td>\n",
       "      <td>0.189655</td>\n",
       "      <td>0.314410</td>\n",
       "      <td>0.286400</td>\n",
       "    </tr>\n",
       "    <tr>\n",
       "      <th>technician</th>\n",
       "      <td>0.135135</td>\n",
       "      <td>0.176136</td>\n",
       "      <td>0.065717</td>\n",
       "      <td>0.157431</td>\n",
       "      <td>0.103905</td>\n",
       "    </tr>\n",
       "    <tr>\n",
       "      <th>unemployed</th>\n",
       "      <td>0.000000</td>\n",
       "      <td>0.136364</td>\n",
       "      <td>0.082873</td>\n",
       "      <td>0.155405</td>\n",
       "      <td>0.175097</td>\n",
       "    </tr>\n",
       "    <tr>\n",
       "      <th>unknown</th>\n",
       "      <td>0.500000</td>\n",
       "      <td>0.000000</td>\n",
       "      <td>0.125000</td>\n",
       "      <td>0.105263</td>\n",
       "      <td>0.120805</td>\n",
       "    </tr>\n",
       "  </tbody>\n",
       "</table>\n",
       "</div>"
      ],
      "text/plain": [
       "balance_2      Above-Average   Average  Negative  Under Average  Under Basic\n",
       "job                                                                         \n",
       "admin.              0.083333  0.222222  0.076834       0.163984     0.118602\n",
       "blue-collar         0.031250  0.102410  0.052144       0.092778     0.071731\n",
       "entrepreneur        0.086957  0.085714  0.093633       0.123746     0.064890\n",
       "housemaid           0.100000  0.074074  0.052356       0.136882     0.080107\n",
       "management          0.116279  0.177778  0.064769       0.185262     0.133282\n",
       "retired             0.272727  0.368421  0.118467       0.305322     0.196707\n",
       "self-employed       0.176471  0.114754  0.080189       0.161473     0.110043\n",
       "services            0.000000  0.031746  0.070088       0.124832     0.085894\n",
       "student             0.500000  0.227273  0.189655       0.314410     0.286400\n",
       "technician          0.135135  0.176136  0.065717       0.157431     0.103905\n",
       "unemployed          0.000000  0.136364  0.082873       0.155405     0.175097\n",
       "unknown             0.500000  0.000000  0.125000       0.105263     0.120805"
      ]
     },
     "execution_count": 258,
     "metadata": {},
     "output_type": "execute_result"
    }
   ],
   "source": [
    "a = success_compare(df,\"job\",\"balance_2\",\"y\")\n",
    "a "
   ]
  },
  {
   "cell_type": "code",
   "execution_count": 241,
   "id": "fa5f017e",
   "metadata": {
    "scrolled": true
   },
   "outputs": [
    {
     "data": {
      "text/html": [
       "<div>\n",
       "<style scoped>\n",
       "    .dataframe tbody tr th:only-of-type {\n",
       "        vertical-align: middle;\n",
       "    }\n",
       "\n",
       "    .dataframe tbody tr th {\n",
       "        vertical-align: top;\n",
       "    }\n",
       "\n",
       "    .dataframe thead th {\n",
       "        text-align: right;\n",
       "    }\n",
       "</style>\n",
       "<table border=\"1\" class=\"dataframe\">\n",
       "  <thead>\n",
       "    <tr style=\"text-align: right;\">\n",
       "      <th>marital</th>\n",
       "      <th>divorced</th>\n",
       "      <th>married</th>\n",
       "      <th>single</th>\n",
       "    </tr>\n",
       "    <tr>\n",
       "      <th>balance_2</th>\n",
       "      <th></th>\n",
       "      <th></th>\n",
       "      <th></th>\n",
       "    </tr>\n",
       "  </thead>\n",
       "  <tbody>\n",
       "    <tr>\n",
       "      <th>Above-Average</th>\n",
       "      <td>0.151515</td>\n",
       "      <td>0.094595</td>\n",
       "      <td>0.205128</td>\n",
       "    </tr>\n",
       "    <tr>\n",
       "      <th>Average</th>\n",
       "      <td>0.183908</td>\n",
       "      <td>0.143662</td>\n",
       "      <td>0.206294</td>\n",
       "    </tr>\n",
       "    <tr>\n",
       "      <th>Negative</th>\n",
       "      <td>0.088207</td>\n",
       "      <td>0.058075</td>\n",
       "      <td>0.085227</td>\n",
       "    </tr>\n",
       "    <tr>\n",
       "      <th>Under Average</th>\n",
       "      <td>0.174213</td>\n",
       "      <td>0.149008</td>\n",
       "      <td>0.188864</td>\n",
       "    </tr>\n",
       "    <tr>\n",
       "      <th>Under Basic</th>\n",
       "      <td>0.109643</td>\n",
       "      <td>0.092797</td>\n",
       "      <td>0.147977</td>\n",
       "    </tr>\n",
       "  </tbody>\n",
       "</table>\n",
       "</div>"
      ],
      "text/plain": [
       "marital        divorced   married    single\n",
       "balance_2                                  \n",
       "Above-Average  0.151515  0.094595  0.205128\n",
       "Average        0.183908  0.143662  0.206294\n",
       "Negative       0.088207  0.058075  0.085227\n",
       "Under Average  0.174213  0.149008  0.188864\n",
       "Under Basic    0.109643  0.092797  0.147977"
      ]
     },
     "execution_count": 241,
     "metadata": {},
     "output_type": "execute_result"
    }
   ],
   "source": [
    "a = success_compare(df,\"balance_2\",\"marital\",\"y\")\n",
    "a"
   ]
  },
  {
   "cell_type": "code",
   "execution_count": 251,
   "id": "a47799ae",
   "metadata": {},
   "outputs": [
    {
     "data": {
      "text/html": [
       "<div>\n",
       "<style scoped>\n",
       "    .dataframe tbody tr th:only-of-type {\n",
       "        vertical-align: middle;\n",
       "    }\n",
       "\n",
       "    .dataframe tbody tr th {\n",
       "        vertical-align: top;\n",
       "    }\n",
       "\n",
       "    .dataframe thead th {\n",
       "        text-align: right;\n",
       "    }\n",
       "</style>\n",
       "<table border=\"1\" class=\"dataframe\">\n",
       "  <thead>\n",
       "    <tr style=\"text-align: right;\">\n",
       "      <th>housing</th>\n",
       "      <th>no</th>\n",
       "      <th>yes</th>\n",
       "    </tr>\n",
       "    <tr>\n",
       "      <th>balance_2</th>\n",
       "      <th></th>\n",
       "      <th></th>\n",
       "    </tr>\n",
       "  </thead>\n",
       "  <tbody>\n",
       "    <tr>\n",
       "      <th>Above-Average</th>\n",
       "      <td>0.159204</td>\n",
       "      <td>0.075758</td>\n",
       "    </tr>\n",
       "    <tr>\n",
       "      <th>Average</th>\n",
       "      <td>0.226576</td>\n",
       "      <td>0.088710</td>\n",
       "    </tr>\n",
       "    <tr>\n",
       "      <th>Negative</th>\n",
       "      <td>0.080097</td>\n",
       "      <td>0.061647</td>\n",
       "    </tr>\n",
       "    <tr>\n",
       "      <th>Under Average</th>\n",
       "      <td>0.225106</td>\n",
       "      <td>0.099717</td>\n",
       "    </tr>\n",
       "    <tr>\n",
       "      <th>Under Basic</th>\n",
       "      <td>0.161004</td>\n",
       "      <td>0.073671</td>\n",
       "    </tr>\n",
       "  </tbody>\n",
       "</table>\n",
       "</div>"
      ],
      "text/plain": [
       "housing              no       yes\n",
       "balance_2                        \n",
       "Above-Average  0.159204  0.075758\n",
       "Average        0.226576  0.088710\n",
       "Negative       0.080097  0.061647\n",
       "Under Average  0.225106  0.099717\n",
       "Under Basic    0.161004  0.073671"
      ]
     },
     "execution_count": 251,
     "metadata": {},
     "output_type": "execute_result"
    }
   ],
   "source": [
    "a = success_compare(df,\"balance_2\",\"housing\",\"y\")\n",
    "a"
   ]
  },
  {
   "cell_type": "code",
   "execution_count": 243,
   "id": "56003702",
   "metadata": {
    "scrolled": true
   },
   "outputs": [
    {
     "data": {
      "text/plain": [
       "0.5629822885279635"
      ]
     },
     "execution_count": 243,
     "metadata": {},
     "output_type": "execute_result"
    }
   ],
   "source": [
    "total_df = df[df[\"marital\"] == \"married\"]\n",
    "Total = total_df[\"housing\"].count()\n",
    "Yes = total_df[total_df[\"housing\"] == \"yes\"][\"housing\"].count()\n",
    "rate = Yes/Total\n",
    "rate"
   ]
  },
  {
   "cell_type": "code",
   "execution_count": 244,
   "id": "440d49e0",
   "metadata": {},
   "outputs": [
    {
     "data": {
      "text/plain": [
       "0.43701771147203644"
      ]
     },
     "execution_count": 244,
     "metadata": {},
     "output_type": "execute_result"
    }
   ],
   "source": [
    "total_df = df[df[\"marital\"] == \"married\"]\n",
    "Total = total_df[\"housing\"].count()\n",
    "Yes = total_df[total_df[\"housing\"] == \"no\"][\"housing\"].count()\n",
    "rate = Yes/Total\n",
    "rate"
   ]
  },
  {
   "cell_type": "code",
   "execution_count": null,
   "id": "f108be4e",
   "metadata": {
    "scrolled": true
   },
   "outputs": [],
   "source": []
  },
  {
   "cell_type": "code",
   "execution_count": 245,
   "id": "52eea678",
   "metadata": {},
   "outputs": [],
   "source": [
    "# education\n",
    "#default\n",
    "# housing\n",
    "# loan\n",
    "# job\n",
    "#marital\n"
   ]
  },
  {
   "cell_type": "code",
   "execution_count": null,
   "id": "6749f4f4",
   "metadata": {},
   "outputs": [],
   "source": []
  },
  {
   "cell_type": "code",
   "execution_count": null,
   "id": "9001c0d4",
   "metadata": {},
   "outputs": [],
   "source": []
  },
  {
   "cell_type": "code",
   "execution_count": null,
   "id": "b36ea49d",
   "metadata": {},
   "outputs": [],
   "source": []
  }
 ],
 "metadata": {
  "kernelspec": {
   "display_name": "Python 3 (ipykernel)",
   "language": "python",
   "name": "python3"
  },
  "language_info": {
   "codemirror_mode": {
    "name": "ipython",
    "version": 3
   },
   "file_extension": ".py",
   "mimetype": "text/x-python",
   "name": "python",
   "nbconvert_exporter": "python",
   "pygments_lexer": "ipython3",
   "version": "3.9.7"
  }
 },
 "nbformat": 4,
 "nbformat_minor": 5
}
